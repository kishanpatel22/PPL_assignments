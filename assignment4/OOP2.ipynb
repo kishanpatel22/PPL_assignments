{
 "cells": [
  {
   "cell_type": "markdown",
   "metadata": {},
   "source": [
    "## Inheritance, Polymorphism, Abstract Classes and Overloading"
   ]
  },
  {
   "cell_type": "markdown",
   "metadata": {},
   "source": [
    "### 1 Simple Inheritance"
   ]
  },
  {
   "cell_type": "code",
   "execution_count": 52,
   "metadata": {},
   "outputs": [],
   "source": [
    "# Base class\n",
    "class Animals(object):\n",
    " \n",
    "    # Base class attributes\n",
    "    vertebrates = True\n",
    "    \n",
    "    # protected member\n",
    "    _ears = 2\n",
    "    \n",
    "    # private member\n",
    "    __tail = True\n",
    "    \n",
    "    def __init__(self):\n",
    "        print('Animal created')\n",
    "        #attributes of a particular object\n",
    "        #protected attribute\n",
    "        self._legs = 4\n",
    "        \n",
    "        #private attribute\n",
    "        self.__eyes = 2\n",
    "        \n",
    "    def eat(self):\n",
    "        print('Animal is eating now.')"
   ]
  },
  {
   "cell_type": "code",
   "execution_count": 5,
   "metadata": {},
   "outputs": [],
   "source": [
    "# dervied class from Animal Class\n",
    "\n",
    "class Dog(Animals):\n",
    "    # default constructor\n",
    "    def __init__(self,name):\n",
    "        self.name = name\n",
    "        # constructor for Animal class\n",
    "        Animals.__init__(self)\n",
    "        print('Dog with name {} is created'.format(self.name))\n",
    "    \n",
    "    def sleep(self):\n",
    "        print('{} is sleeping'.format(self.name))\n",
    "        \n",
    "    def bark(self):\n",
    "        print('{} say Woof!!'.format(self.name))"
   ]
  },
  {
   "cell_type": "code",
   "execution_count": 11,
   "metadata": {},
   "outputs": [
    {
     "name": "stdout",
     "output_type": "stream",
     "text": [
      "Animal created\n",
      "Dog with name Goffy is created\n"
     ]
    }
   ],
   "source": [
    "# derived class instance\n",
    "d = Dog(\"Goffy\")"
   ]
  },
  {
   "cell_type": "code",
   "execution_count": 12,
   "metadata": {},
   "outputs": [
    {
     "name": "stdout",
     "output_type": "stream",
     "text": [
      "Goffy is sleeping\n",
      "Goffy say Woof!!\n"
     ]
    }
   ],
   "source": [
    "# derived class methods\n",
    "d.sleep()\n",
    "d.bark()"
   ]
  },
  {
   "cell_type": "code",
   "execution_count": 14,
   "metadata": {},
   "outputs": [
    {
     "name": "stdout",
     "output_type": "stream",
     "text": [
      "Animal is eating now.\n"
     ]
    }
   ],
   "source": [
    "# base class methods\n",
    "d.eat()"
   ]
  },
  {
   "cell_type": "code",
   "execution_count": 18,
   "metadata": {},
   "outputs": [
    {
     "name": "stdout",
     "output_type": "stream",
     "text": [
      "True\n",
      "2\n"
     ]
    },
    {
     "ename": "AttributeError",
     "evalue": "'Dog' object has no attribute '__tail'",
     "output_type": "error",
     "traceback": [
      "\u001b[0;31m---------------------------------------------------------------------------\u001b[0m",
      "\u001b[0;31mAttributeError\u001b[0m                            Traceback (most recent call last)",
      "\u001b[0;32m<ipython-input-18-942d2cd623a0>\u001b[0m in \u001b[0;36m<module>\u001b[0;34m\u001b[0m\n\u001b[1;32m      8\u001b[0m \u001b[0;34m\u001b[0m\u001b[0m\n\u001b[1;32m      9\u001b[0m \u001b[0;31m# private data member\u001b[0m\u001b[0;34m\u001b[0m\u001b[0;34m\u001b[0m\u001b[0;34m\u001b[0m\u001b[0m\n\u001b[0;32m---> 10\u001b[0;31m \u001b[0mprint\u001b[0m\u001b[0;34m(\u001b[0m\u001b[0md\u001b[0m\u001b[0;34m.\u001b[0m\u001b[0m__tail\u001b[0m\u001b[0;34m)\u001b[0m\u001b[0;34m\u001b[0m\u001b[0;34m\u001b[0m\u001b[0m\n\u001b[0m",
      "\u001b[0;31mAttributeError\u001b[0m: 'Dog' object has no attribute '__tail'"
     ]
    }
   ],
   "source": [
    "# base class data members accessed by a derived class\n",
    "\n",
    "# public data member\n",
    "print(d.vertebrates)\n",
    "\n",
    "# protected data member\n",
    "print(d._ears)\n",
    "\n",
    "# private data member\n",
    "print(d.__tail)"
   ]
  },
  {
   "cell_type": "markdown",
   "metadata": {},
   "source": [
    "### 2 Method Overriding : init method"
   ]
  },
  {
   "cell_type": "code",
   "execution_count": 30,
   "metadata": {},
   "outputs": [],
   "source": [
    "# Base class\n",
    "class Animals(object):\n",
    " \n",
    "    # Base class attributes\n",
    "    vertebrates = True\n",
    "    \n",
    "    # protected member\n",
    "    _ears = 2\n",
    "    \n",
    "    # private member\n",
    "    __tail = True\n",
    "    \n",
    "    def __init__(self):\n",
    "        print('Animal created')\n",
    "        #attributes of a particular object\n",
    "        #protected attribute\n",
    "        self._legs = 4\n",
    "        \n",
    "        #private attribute\n",
    "        self.__eyes = 2\n",
    "        \n",
    "    def eat(self):\n",
    "        print('Animal is eating now.')\n",
    "        \n",
    "# derived class \n",
    "class Cat(Animals):\n",
    "    def __init__(self):\n",
    "        print('Cat Created')\n",
    "        \n",
    "    def mew(self):\n",
    "        print('Cat say mew!')"
   ]
  },
  {
   "cell_type": "code",
   "execution_count": 31,
   "metadata": {},
   "outputs": [
    {
     "name": "stdout",
     "output_type": "stream",
     "text": [
      "Cat Created\n"
     ]
    }
   ],
   "source": [
    "c = Cat()"
   ]
  },
  {
   "cell_type": "markdown",
   "metadata": {},
   "source": [
    "In the above created object the parent class constructor is never called since the derived class init method has overidden the init method of base class.   Thus which means that we cannot access the base class attributes"
   ]
  },
  {
   "cell_type": "code",
   "execution_count": 32,
   "metadata": {},
   "outputs": [
    {
     "ename": "AttributeError",
     "evalue": "'Cat' object has no attribute '_legs'",
     "output_type": "error",
     "traceback": [
      "\u001b[0;31m---------------------------------------------------------------------------\u001b[0m",
      "\u001b[0;31mAttributeError\u001b[0m                            Traceback (most recent call last)",
      "\u001b[0;32m<ipython-input-32-60647c96a9d7>\u001b[0m in \u001b[0;36m<module>\u001b[0;34m\u001b[0m\n\u001b[1;32m      1\u001b[0m \u001b[0;31m# cannot access the base class data members and functions\u001b[0m\u001b[0;34m\u001b[0m\u001b[0;34m\u001b[0m\u001b[0;34m\u001b[0m\u001b[0m\n\u001b[0;32m----> 2\u001b[0;31m \u001b[0mc\u001b[0m\u001b[0;34m.\u001b[0m\u001b[0m_legs\u001b[0m\u001b[0;34m(\u001b[0m\u001b[0;34m)\u001b[0m\u001b[0;34m\u001b[0m\u001b[0;34m\u001b[0m\u001b[0m\n\u001b[0m\u001b[1;32m      3\u001b[0m \u001b[0mc\u001b[0m\u001b[0;34m.\u001b[0m\u001b[0m_eyes\u001b[0m\u001b[0;34m(\u001b[0m\u001b[0;34m)\u001b[0m\u001b[0;34m\u001b[0m\u001b[0;34m\u001b[0m\u001b[0m\n",
      "\u001b[0;31mAttributeError\u001b[0m: 'Cat' object has no attribute '_legs'"
     ]
    }
   ],
   "source": [
    "# cannot access the base class data members and functions\n",
    "c._legs()\n",
    "c._eyes()"
   ]
  },
  {
   "cell_type": "markdown",
   "metadata": {},
   "source": [
    "However one can access the dervied class data members and member functions since its instanciated"
   ]
  },
  {
   "cell_type": "code",
   "execution_count": 33,
   "metadata": {},
   "outputs": [
    {
     "name": "stdout",
     "output_type": "stream",
     "text": [
      "Cat say mew!\n"
     ]
    }
   ],
   "source": [
    "c.mew()"
   ]
  },
  {
   "cell_type": "markdown",
   "metadata": {},
   "source": [
    "### 3  Derived class init method"
   ]
  },
  {
   "cell_type": "code",
   "execution_count": 66,
   "metadata": {},
   "outputs": [],
   "source": [
    "# Base class\n",
    "class Animals(object):\n",
    " \n",
    "    # Base class attributes\n",
    "    vertebrates = True\n",
    "    \n",
    "    # protected member\n",
    "    _ears = 2\n",
    "    \n",
    "    # private member\n",
    "    __tail = True\n",
    "    \n",
    "    def __init__(self):\n",
    "        print('Animal created')\n",
    "        # attributes of a particular object\n",
    "        \n",
    "        # protected attributes\n",
    "        self._legs = 4\n",
    "        self._eyes = 2\n",
    "        \n",
    "    def eat(self):\n",
    "        print('Animal is eating now.')\n",
    "\n",
    "\n",
    "# derived Cat class from Animals\n",
    "class Cat(Animals):\n",
    "    \n",
    "    # init method is no overidden \n",
    "    \n",
    "    # member functions\n",
    "    def mew(self):\n",
    "        print('mew')\n"
   ]
  },
  {
   "cell_type": "markdown",
   "metadata": {},
   "source": [
    "In the above example we have not overidden the init method of the base class thus now we can access the base class and derived class attributes"
   ]
  },
  {
   "cell_type": "code",
   "execution_count": 44,
   "metadata": {},
   "outputs": [
    {
     "name": "stdout",
     "output_type": "stream",
     "text": [
      "Animal created\n"
     ]
    }
   ],
   "source": [
    "c = Cat()"
   ]
  },
  {
   "cell_type": "code",
   "execution_count": 49,
   "metadata": {},
   "outputs": [
    {
     "name": "stdout",
     "output_type": "stream",
     "text": [
      "mew\n"
     ]
    }
   ],
   "source": [
    "c.mew()"
   ]
  },
  {
   "cell_type": "code",
   "execution_count": 51,
   "metadata": {},
   "outputs": [
    {
     "name": "stdout",
     "output_type": "stream",
     "text": [
      "4\n",
      "2\n"
     ]
    }
   ],
   "source": [
    "print(c._legs)\n",
    "print(c._eyes)"
   ]
  },
  {
   "cell_type": "markdown",
   "metadata": {},
   "source": [
    "### 4 Function overriding and use of super()"
   ]
  },
  {
   "cell_type": "code",
   "execution_count": 61,
   "metadata": {},
   "outputs": [],
   "source": [
    "# Base class\n",
    "class Animals(object):    \n",
    "    def __init__(self):\n",
    "        print('Animal created')\n",
    "        \n",
    "        # protected attributes\n",
    "        self._legs = 4\n",
    "        self._eyes = 2\n",
    "        \n",
    "    def speak(self):\n",
    "        print('Animal is speaking now !')\n",
    "\n",
    "# derived Cat class from Animals\n",
    "class Dog(Animals):\n",
    "    \n",
    "    #defualt constructor \n",
    "    def __init__(self, name):\n",
    "        self.name = name\n",
    "        super().__init__()\n",
    "        print('{} the Dog is created !'.format(self.name))\n",
    "        \n",
    "    # member functions\n",
    "    def bark(self):\n",
    "        super().speak()\n",
    "        print('{} says Woof!'.format(self.name))\n"
   ]
  },
  {
   "cell_type": "markdown",
   "metadata": {},
   "source": [
    "super keyword provides a functionality to explicitly refer the parent class of the current derived class"
   ]
  },
  {
   "cell_type": "code",
   "execution_count": 64,
   "metadata": {},
   "outputs": [
    {
     "name": "stdout",
     "output_type": "stream",
     "text": [
      "Animal created\n",
      "Tom the Dog is created !\n"
     ]
    }
   ],
   "source": [
    "d = Dog(\"Tom\")"
   ]
  },
  {
   "cell_type": "code",
   "execution_count": 65,
   "metadata": {},
   "outputs": [
    {
     "name": "stdout",
     "output_type": "stream",
     "text": [
      "Animal is speaking now !\n",
      "Tom says Woof!\n"
     ]
    }
   ],
   "source": [
    "d.bark()"
   ]
  },
  {
   "cell_type": "markdown",
   "metadata": {},
   "source": [
    "### 5 Multilevel inheritence"
   ]
  },
  {
   "cell_type": "code",
   "execution_count": 67,
   "metadata": {},
   "outputs": [],
   "source": [
    "class Mammals(object):\n",
    "    def __init__(self):\n",
    "        print('mammal created')\n",
    "        self._age = 10\n",
    "    \n",
    "    def living_place(self):\n",
    "        print('Mammal is lives on land')"
   ]
  },
  {
   "cell_type": "code",
   "execution_count": 68,
   "metadata": {},
   "outputs": [],
   "source": [
    "class Animals(Mammals):\n",
    "    def __init__(self):\n",
    "        super().__init__()\n",
    "        print('Animal created')\n",
    "        \n",
    "    def eat(self):\n",
    "        print('Animal eats')"
   ]
  },
  {
   "cell_type": "code",
   "execution_count": 69,
   "metadata": {},
   "outputs": [],
   "source": [
    "class Rabbit(Animals):\n",
    "    def __init__(self):\n",
    "        super().__init__()\n",
    "        print('Rabbit is created!')\n",
    "    \n",
    "    def run(self):\n",
    "        print('Rabbit runs faster')"
   ]
  },
  {
   "cell_type": "code",
   "execution_count": 70,
   "metadata": {},
   "outputs": [
    {
     "name": "stdout",
     "output_type": "stream",
     "text": [
      "mammal created\n",
      "Animal created\n",
      "Rabbit is created!\n"
     ]
    }
   ],
   "source": [
    "ricky = Rabbit()"
   ]
  },
  {
   "cell_type": "code",
   "execution_count": 72,
   "metadata": {},
   "outputs": [
    {
     "name": "stdout",
     "output_type": "stream",
     "text": [
      "Rabbit runs faster\n"
     ]
    }
   ],
   "source": [
    "ricky.run()"
   ]
  },
  {
   "cell_type": "code",
   "execution_count": 73,
   "metadata": {},
   "outputs": [
    {
     "name": "stdout",
     "output_type": "stream",
     "text": [
      "Animal eats\n"
     ]
    }
   ],
   "source": [
    "ricky.eat()"
   ]
  },
  {
   "cell_type": "code",
   "execution_count": 74,
   "metadata": {},
   "outputs": [
    {
     "name": "stdout",
     "output_type": "stream",
     "text": [
      "Mammal is lives on land\n"
     ]
    }
   ],
   "source": [
    "ricky.living_place()"
   ]
  },
  {
   "cell_type": "markdown",
   "metadata": {},
   "source": [
    "### 6 Multiple inheritence"
   ]
  },
  {
   "cell_type": "code",
   "execution_count": 81,
   "metadata": {},
   "outputs": [],
   "source": [
    "class Animals(object):\n",
    "    def __init__(self,age = 10):\n",
    "        print('Animal is caeated')\n",
    "        self._age = age\n",
    "        \n",
    "    def run(self):\n",
    "        print('Animal runs')\n",
    "    \n",
    "    def sound(self):\n",
    "        print('Animal Sound')"
   ]
  },
  {
   "cell_type": "code",
   "execution_count": 82,
   "metadata": {},
   "outputs": [],
   "source": [
    "class Birds(object):\n",
    "    def __init__(self,age = 5):\n",
    "        print('Bird is created')\n",
    "        self._age = 5\n",
    "    \n",
    "    def fly(self):\n",
    "        print('Bird is flying')\n",
    "        \n",
    "    def sound(self):\n",
    "        print('Bird Sound')"
   ]
  },
  {
   "cell_type": "code",
   "execution_count": 83,
   "metadata": {},
   "outputs": [],
   "source": [
    "class Bat(Animals, Birds):\n",
    "    def __init__(self):\n",
    "        super().__init__()\n",
    "        print('Bat created')\n",
    "        \n",
    "    def sleep(self):\n",
    "        print('Bat is sleeping')"
   ]
  },
  {
   "cell_type": "code",
   "execution_count": 80,
   "metadata": {},
   "outputs": [
    {
     "name": "stdout",
     "output_type": "stream",
     "text": [
      "Animal is craeated\n",
      "Bat created\n"
     ]
    }
   ],
   "source": [
    "b = Bat()"
   ]
  },
  {
   "cell_type": "code",
   "execution_count": 85,
   "metadata": {},
   "outputs": [
    {
     "name": "stdout",
     "output_type": "stream",
     "text": [
      "Bird is flying\n",
      "Animal Sound\n",
      "Bat is sleeping\n"
     ]
    }
   ],
   "source": [
    "b.fly()\n",
    "b.sound()\n",
    "b.sleep()"
   ]
  },
  {
   "cell_type": "markdown",
   "metadata": {},
   "source": [
    "### 7 Abstract classes"
   ]
  },
  {
   "cell_type": "markdown",
   "metadata": {},
   "source": [
    "Abstract classes are classes that contain one or more abstract methods. An abstract method is a method that is declared, but contains no implementation. Abstract classes cannot be instantiated, and require subclasses to provide implementations for the abstract methods."
   ]
  },
  {
   "cell_type": "markdown",
   "metadata": {},
   "source": [
    "We make use of ABC module to achieve the abstract classes"
   ]
  },
  {
   "cell_type": "code",
   "execution_count": 87,
   "metadata": {},
   "outputs": [],
   "source": [
    "from abc import ABC, abstractmethod\n",
    "# Base class \n",
    "class Birds(ABC):\n",
    "    def __init__(self, speed=\"60mph\"):\n",
    "        self.speed = speed\n",
    "        \n",
    "    # The abstract class\n",
    "    @abstractmethod   \n",
    "    def fly(self):\n",
    "        pass"
   ]
  },
  {
   "cell_type": "code",
   "execution_count": 92,
   "metadata": {},
   "outputs": [],
   "source": [
    "class Ostrich(Birds):\n",
    "    \n",
    "    def __init__(self, name):\n",
    "        self.name = \"name\"\n",
    "        super().__init__('40mph')\n",
    "    \n",
    "    def fly(self):\n",
    "        print('NO!')"
   ]
  },
  {
   "cell_type": "code",
   "execution_count": 94,
   "metadata": {},
   "outputs": [],
   "source": [
    "o = Ostrich(\"Omo\")"
   ]
  },
  {
   "cell_type": "code",
   "execution_count": 95,
   "metadata": {},
   "outputs": [
    {
     "name": "stdout",
     "output_type": "stream",
     "text": [
      "NO!\n"
     ]
    }
   ],
   "source": [
    "o.fly()"
   ]
  },
  {
   "cell_type": "markdown",
   "metadata": {},
   "source": [
    "### 8 Polymorphism"
   ]
  },
  {
   "cell_type": "markdown",
   "metadata": {},
   "source": [
    "Polymorphism as the name suggest using many forms. Polymorphism technically means same function name but different signatures i.e. being used for different work."
   ]
  },
  {
   "cell_type": "code",
   "execution_count": 100,
   "metadata": {},
   "outputs": [],
   "source": [
    "class Elephant(object):\n",
    "    def __init__(self,name):\n",
    "        self.name = name\n",
    "        print(self.name,' Elephant is created')\n",
    "    \n",
    "    def info(self):\n",
    "        print(self.name,' is an elephant')\n",
    "        print(self.name,' eats grass')"
   ]
  },
  {
   "cell_type": "code",
   "execution_count": 101,
   "metadata": {},
   "outputs": [],
   "source": [
    "class Giraffe(object):\n",
    "    def __init__(self,name):\n",
    "        self.name = name\n",
    "        print(self.name,' Giraffe is created')\n",
    "    \n",
    "    def info(self):\n",
    "        print(self.name,' is an giraffe')\n",
    "        print(self.name,' eats grass')"
   ]
  },
  {
   "cell_type": "code",
   "execution_count": 104,
   "metadata": {},
   "outputs": [
    {
     "name": "stdout",
     "output_type": "stream",
     "text": [
      "Bumbo  Elephant is created\n",
      "Simi  Giraffe is created\n"
     ]
    }
   ],
   "source": [
    "e = Elephant('Bumbo')\n",
    "g = Giraffe('Simi')"
   ]
  },
  {
   "cell_type": "code",
   "execution_count": 105,
   "metadata": {},
   "outputs": [
    {
     "name": "stdout",
     "output_type": "stream",
     "text": [
      "Bumbo  is an elephant\n",
      "Bumbo  eats grass\n",
      "Simi  is an giraffe\n",
      "Simi  eats grass\n"
     ]
    }
   ],
   "source": [
    "for animal in (e,g):\n",
    "    animal.info()"
   ]
  },
  {
   "cell_type": "markdown",
   "metadata": {},
   "source": [
    "### 9 Operator overloading"
   ]
  },
  {
   "cell_type": "code",
   "execution_count": 107,
   "metadata": {},
   "outputs": [
    {
     "name": "stdout",
     "output_type": "stream",
     "text": [
      "30\n",
      "hello world\n"
     ]
    }
   ],
   "source": [
    "# same operator is used but meaning is different\n",
    "# another form of polymorphism is opertator overloading\n",
    "\n",
    "# addition\n",
    "print(20 + 10)\n",
    "\n",
    "# concatination\n",
    "print('hello ' + 'world')"
   ]
  },
  {
   "cell_type": "markdown",
   "metadata": {},
   "source": [
    "### 10 Function overloading"
   ]
  },
  {
   "cell_type": "code",
   "execution_count": 109,
   "metadata": {},
   "outputs": [
    {
     "name": "stdout",
     "output_type": "stream",
     "text": [
      "13\n",
      "5\n",
      "3\n"
     ]
    }
   ],
   "source": [
    "#Function name is same but argumetns are different\n",
    "\n",
    "# length of string\n",
    "print(len('Hello, World!'))\n",
    "\n",
    "#length of list\n",
    "print(len([1,3,5,7,9,]))\n",
    "\n",
    "#length of dictionary\n",
    "print(len({'0':'A','1':'B','2':'C'}))"
   ]
  }
 ],
 "metadata": {
  "kernelspec": {
   "display_name": "Python 3",
   "language": "python",
   "name": "python3"
  },
  "language_info": {
   "codemirror_mode": {
    "name": "ipython",
    "version": 3
   },
   "file_extension": ".py",
   "mimetype": "text/x-python",
   "name": "python",
   "nbconvert_exporter": "python",
   "pygments_lexer": "ipython3",
   "version": "3.6.9"
  }
 },
 "nbformat": 4,
 "nbformat_minor": 4
}
