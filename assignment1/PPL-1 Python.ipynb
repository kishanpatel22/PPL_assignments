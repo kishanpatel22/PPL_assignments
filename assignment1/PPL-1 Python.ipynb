{
 "cells": [
  {
   "cell_type": "markdown",
   "metadata": {},
   "source": [
    "## Q1 Tiger, Goat, Grass puzzle"
   ]
  },
  {
   "cell_type": "code",
   "execution_count": null,
   "metadata": {},
   "outputs": [],
   "source": [
    "#Program to solve goat tiger and grass puzzle\n",
    "print(\"Solution to the puzzle is:\")\n",
    "r = ['tiger','grass','goat']\n",
    "l = []\n",
    "logs = []\n",
    "\n",
    "#define game rules\n",
    "def game_over(bank):\n",
    "    if len(bank) == 2 and ('goat' in bank and 'grass' in bank):\n",
    "        return True\n",
    "    if len(bank) == 2 and ('goat' in bank and 'tiger' in bank):\n",
    "        return True\n",
    "    return False\n",
    "\n",
    "while r != []:\n",
    "    prev = \"\"\n",
    "    for i in range(len(r)):\n",
    "        temp = r.copy()\n",
    "        if not r[i] == prev:\n",
    "            prev = r[i]\n",
    "            l.append(temp[i])\n",
    "            r.pop(r.index(temp[i]))\n",
    "        if game_over(r):\n",
    "            prev = \"\"\n",
    "            r = [l.pop(-1)] + r\n",
    "        else:\n",
    "            logs.append(\"Man and \" + temp[i] + \" will go right to left\")\n",
    "            break\n",
    "    if r == []:\n",
    "        break\n",
    "    if len(l) != 1 and game_over(l):\n",
    "        for j in range(len(l)):\n",
    "            temp = l.copy()\n",
    "            if not l[j] == prev:\n",
    "                prev = l[j]\n",
    "                r.append(temp[j])\n",
    "                logs.append(\"Man and \" + temp[j] + \" will go from left to right\")\n",
    "                # print(logs[-1])\n",
    "                break\n",
    "\n",
    "dir = [sp.split()[-1] for sp in logs]\n",
    "for i in range(len(logs)):\n",
    "    print(logs[i])\n",
    "    try:\n",
    "        if dir[i] == dir[i+1]:\n",
    "            print(\"Man will go the other side of the bank\")\n",
    "    except IndexError:\n",
    "        pass"
   ]
  },
  {
   "cell_type": "markdown",
   "metadata": {},
   "source": [
    "## Q2 Dice Rolling"
   ]
  },
  {
   "cell_type": "code",
   "execution_count": null,
   "metadata": {},
   "outputs": [],
   "source": [
    "import random\n",
    "\n",
    "p = input()\n",
    "while p != 'n':\n",
    "  t = ( int(random.random()*1000) % 6 ) + 1\n",
    "  print(t)\n",
    "  p = input()"
   ]
  },
  {
   "cell_type": "markdown",
   "metadata": {},
   "source": [
    "## Q3 Block websites"
   ]
  },
  {
   "cell_type": "code",
   "execution_count": null,
   "metadata": {},
   "outputs": [],
   "source": [
    "#Import libraries\n",
    "import time\n",
    "from datetime import datetime as dt\n",
    "#Windows host file path\n",
    "hostsPath = \"/etc/hosts\"\n",
    "redirect=\"127.0.0.1\"\n",
    "#Add the website you want to block, in this list\n",
    "websites=[\"www.youtube.com\",\"youtube.com\", \"www.facebook.com\", \"facebook.com\"]\n",
    "while True:\n",
    "    if dt(dt.now().year,dt.now().month,dt.now().day,9) < dt.now() < dt(dt.now().year,dt.now().month,dt.now().day,18):\n",
    "        print (\"Sorry Not Allowed...\")\n",
    "        with open(hostsPath,'r+') as file:\n",
    "            content = file.read()\n",
    "            for site in websites:\n",
    "                if site in content:\n",
    "                    pass\n",
    "                else:\n",
    "                    file.write(redirect+\" \"+site+\"\\n\")\n",
    "    \n",
    "    else:\n",
    "        with open(hostsPath,'r+') as file:\n",
    "            content = file.readlines()\n",
    "            file.seek(0)\n",
    "            for line in content:\n",
    "                if not any(site in line for site in websites):\n",
    "                    file.write(line)\n",
    "                    file.truncate()\n",
    "                    print (\"Allowed access!\")\n",
    "    time.sleep(5)"
   ]
  },
  {
   "cell_type": "markdown",
   "metadata": {},
   "source": [
    "## Q4 Number Guess"
   ]
  },
  {
   "cell_type": "code",
   "execution_count": 12,
   "metadata": {},
   "outputs": [
    {
     "name": "stdout",
     "output_type": "stream",
     "text": [
      "50\n",
      "you entered a larger number\n",
      "25\n",
      "you entered a larger number\n",
      "12\n",
      "you entered a smaller number\n",
      "20\n",
      "you entered a larger number\n",
      "16\n",
      "you entered a larger number\n",
      "14\n",
      "you got it\n",
      "You made it in 6 chances!\n"
     ]
    }
   ],
   "source": [
    "import random\n",
    "n = int (random.random() * 100 )\n",
    "t = int(input())\n",
    "i = 0\n",
    "f = 0\n",
    "while i != 10:\n",
    "  if t > n :\n",
    "    print('you entered a larger number')\n",
    "    i += 1\n",
    "    t = int(input())\n",
    "    continue\n",
    "  elif t < n:\n",
    "    print('you entered a smaller number')\n",
    "    i += 1\n",
    "    t = int(input())\n",
    "    continue\n",
    "  else:\n",
    "    print('you got it')\n",
    "    f = 1\n",
    "    break\n",
    "    \n",
    "if f == 0:\n",
    "    print('You loose!')\n",
    "    print('answer was',n)\n",
    "else:\n",
    "    print('You made it in',i+1,'chances!')\n"
   ]
  },
  {
   "cell_type": "markdown",
   "metadata": {},
   "source": [
    "## Q5 Find missing page no"
   ]
  },
  {
   "cell_type": "code",
   "execution_count": 13,
   "metadata": {},
   "outputs": [],
   "source": [
    "book = {i for i in range(1,26)}\n",
    "\n",
    "def missing_pages(t):\n",
    "  return book - t"
   ]
  },
  {
   "cell_type": "code",
   "execution_count": 14,
   "metadata": {},
   "outputs": [
    {
     "name": "stdout",
     "output_type": "stream",
     "text": [
      "{2, 10, 11, 13, 14, 15, 16, 17, 19, 20, 21, 22, 23, 24, 25}\n"
     ]
    }
   ],
   "source": [
    "t = set()\n",
    "t = {1,3,4,5,6,7,8,9,12,18}\n",
    "print(missing_pages(t))"
   ]
  },
  {
   "cell_type": "markdown",
   "metadata": {},
   "source": [
    "## Q6 First 10 pairs of amicable numbers"
   ]
  },
  {
   "cell_type": "code",
   "execution_count": 15,
   "metadata": {},
   "outputs": [],
   "source": [
    "from math import sqrt\n",
    "def sum_of_divisors(n):\n",
    "  sum = 0\n",
    "  for i in range(2,int(sqrt(n) + 1) ):\n",
    "    if n % i == 0:\n",
    "      if i * i != n:\n",
    "        sum = sum + i + (n / i)\n",
    "      else:\n",
    "        sum += i\n",
    "  return 1 + int(sum)"
   ]
  },
  {
   "cell_type": "code",
   "execution_count": 16,
   "metadata": {},
   "outputs": [
    {
     "name": "stdout",
     "output_type": "stream",
     "text": [
      "220 284\n",
      "1184 1210\n",
      "2620 2924\n",
      "5020 5564\n",
      "6232 6368\n",
      "10744 10856\n",
      "12285 14595\n",
      "17296 18416\n",
      "63020 76084\n",
      "66928 66992\n"
     ]
    }
   ],
   "source": [
    "pairs = 0\n",
    "current = 1\n",
    "last_term = 0\n",
    "while(pairs != 10):\n",
    "  new = sum_of_divisors(current)\n",
    "  if current == last_term:\n",
    "    current += 1\n",
    "    continue\n",
    "  if current == sum_of_divisors(new) and current != new:\n",
    "    print(current , new)\n",
    "    last_term = new\n",
    "    pairs += 1\n",
    "  current += 1"
   ]
  },
  {
   "cell_type": "markdown",
   "metadata": {},
   "source": [
    "## Q7 Armstrong numbers in given range"
   ]
  },
  {
   "cell_type": "code",
   "execution_count": 18,
   "metadata": {},
   "outputs": [],
   "source": [
    "def is_armstrong(n):\n",
    "  sum = 0\n",
    "  t = n\n",
    "  while n:\n",
    "    sum += (n % 10)**3\n",
    "    n = int (n / 10)\n",
    "  return sum == t"
   ]
  },
  {
   "cell_type": "code",
   "execution_count": 19,
   "metadata": {},
   "outputs": [
    {
     "name": "stdout",
     "output_type": "stream",
     "text": [
      "1000\n",
      "1\n",
      "153\n",
      "370\n",
      "371\n",
      "407\n"
     ]
    }
   ],
   "source": [
    "n = int(input())\n",
    "for i in range(1,n+1):\n",
    "  if is_armstrong(i):\n",
    "    print(i)"
   ]
  },
  {
   "cell_type": "markdown",
   "metadata": {},
   "source": [
    "## Q8 LU Decomposition"
   ]
  },
  {
   "cell_type": "code",
   "execution_count": 16,
   "metadata": {
    "scrolled": true
   },
   "outputs": [
    {
     "name": "stdout",
     "output_type": "stream",
     "text": [
      "Enter order of matrix2\n",
      "Eneter the matrix\n",
      "\n",
      "1 2\n",
      "3 4\n",
      "\n",
      "L = \n",
      " \n",
      "1 0  \n",
      "3 1  \n",
      "\n",
      "U = \n",
      " \n",
      "1 2  \n",
      "0 -2  \n"
     ]
    }
   ],
   "source": [
    "def print_mat(mat,n):\n",
    "    print(' ')\n",
    "    for i in range(n):\n",
    "        for j in range(n):\n",
    "            print(mat[i][j],end = ' ')\n",
    "        print(' ')\n",
    "\n",
    "def LU(mat,n):\n",
    "    l = [[0 for i in range(0, n)] for i in range(0, n)]\n",
    "    u = [[0 for i in range(0, n)] for i in range(0, n)]\n",
    "    for i in range(0, n):\n",
    "        for k in range(i, n):\n",
    "            add = 0\n",
    "            for j in range(i):\n",
    "                add += (l[i][j] * u[j][k]);\n",
    "            u[i][k] = mat[i][k] - add;\n",
    "\n",
    "        for k in range(i, n):\n",
    "            if (i == k):\n",
    "                l[i][i] = 1\n",
    "            else:\n",
    "                sum = 0\n",
    "                for j in range(i):\n",
    "                    sum += (l[k][j] * u[j][i])\n",
    "                l[k][i] = int((mat[k][i] - sum) / u[i][i])\n",
    "    print('\\nL = ')            \n",
    "    print_mat(l,n)\n",
    "    print('\\nU = ')\n",
    "    print_mat(u,n)\n",
    "    \n",
    "n = int(input('Enter order of matrix'))\n",
    "\n",
    "print('Eneter the matrix')\n",
    "print()\n",
    "\n",
    "l= []\n",
    "mat = []\n",
    "for i in range(n):\n",
    "    l = list(map(int,input().split()))\n",
    "    mat.append(l)\n",
    "LU(mat,n)\n"
   ]
  },
  {
   "cell_type": "markdown",
   "metadata": {},
   "source": [
    "## Q9 First 10 Harmonic Divisors"
   ]
  },
  {
   "cell_type": "code",
   "execution_count": 30,
   "metadata": {},
   "outputs": [],
   "source": [
    "import math\n",
    "def harmonic_mean_of_divisors(n):\n",
    "  mean = 0\n",
    "  sum = 0\n",
    "  count = 0\n",
    "  for i in range(1,int(sqrt(n)) + 1): \n",
    "    if n % i == 0:\n",
    "      if i * i == n:\n",
    "        sum += (n/i)\n",
    "        count += 1\n",
    "      else:\n",
    "        sum += (n/i) + ( n/(n/i) )\n",
    "        count += 2\n",
    "  mean = count * n / sum\n",
    "  return mean"
   ]
  },
  {
   "cell_type": "code",
   "execution_count": 31,
   "metadata": {},
   "outputs": [
    {
     "name": "stdout",
     "output_type": "stream",
     "text": [
      "1\n",
      "6\n",
      "28\n",
      "140\n",
      "270\n",
      "496\n",
      "672\n",
      "1638\n",
      "2970\n",
      "6200\n"
     ]
    }
   ],
   "source": [
    "n = 0\n",
    "i = 1\n",
    "while n != 10:\n",
    "  if harmonic_mean_of_divisors(i).is_integer():\n",
    "    n += 1\n",
    "    print(i)\n",
    "  i += 1"
   ]
  },
  {
   "cell_type": "markdown",
   "metadata": {},
   "source": [
    "## Q 10 First 10 number of geometric series"
   ]
  },
  {
   "cell_type": "code",
   "execution_count": 32,
   "metadata": {},
   "outputs": [
    {
     "name": "stdout",
     "output_type": "stream",
     "text": [
      "3\n",
      "4\n",
      "geometric series with a = 3 r = 4\n",
      "3\n",
      "12\n",
      "48\n",
      "192\n",
      "768\n",
      "3072\n",
      "12288\n",
      "49152\n",
      "196608\n",
      "786432\n",
      "3145728\n"
     ]
    }
   ],
   "source": [
    "a = int(input())\n",
    "r = int(input())\n",
    "\n",
    "print('geometric series with a = {0} r = {1}'.format(a,r))\n",
    "for i in range(11):\n",
    "  print(a*(r**i))"
   ]
  },
  {
   "cell_type": "code",
   "execution_count": null,
   "metadata": {},
   "outputs": [],
   "source": []
  }
 ],
 "metadata": {
  "kernelspec": {
   "display_name": "Python 3",
   "language": "python",
   "name": "python3"
  },
  "language_info": {
   "codemirror_mode": {
    "name": "ipython",
    "version": 3
   },
   "file_extension": ".py",
   "mimetype": "text/x-python",
   "name": "python",
   "nbconvert_exporter": "python",
   "pygments_lexer": "ipython3",
   "version": "3.6.9"
  }
 },
 "nbformat": 4,
 "nbformat_minor": 2
}
