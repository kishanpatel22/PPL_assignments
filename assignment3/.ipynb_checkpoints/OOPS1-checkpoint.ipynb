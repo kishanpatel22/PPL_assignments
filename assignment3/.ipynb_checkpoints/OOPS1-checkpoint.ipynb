{
 "cells": [
  {
   "cell_type": "markdown",
   "metadata": {},
   "source": [
    "# ABSTRACTION, ENCAPSULATION AND ACCESS CLASSIFIERS"
   ]
  },
  {
   "cell_type": "markdown",
   "metadata": {},
   "source": [
    "### 1 Class for Square "
   ]
  },
  {
   "cell_type": "code",
   "execution_count": 37,
   "metadata": {},
   "outputs": [],
   "source": [
    "class Square(object):\n",
    "    \n",
    "    # Class attribute \n",
    "    num_sides = 4\n",
    "    \n",
    "    # default constructor \n",
    "    def __init__(self, side = 1):\n",
    "        self.side = side\n",
    "        self.perimeter = side * 4\n",
    "        self.area = side * side\n",
    "    \n",
    "    # member functions\n",
    "    def get_side(self):\n",
    "        return self.side;\n",
    "    \n",
    "    def get_area(self):\n",
    "        return self.area\n",
    "    \n",
    "    def get_perimeter(self):\n",
    "        return self.perimeter\n",
    "    "
   ]
  },
  {
   "cell_type": "markdown",
   "metadata": {},
   "source": [
    "Now create an instance of the class square i.e an object. Object is a single entity representing the class attributes and behaviour."
   ]
  },
  {
   "cell_type": "code",
   "execution_count": 47,
   "metadata": {},
   "outputs": [
    {
     "name": "stdout",
     "output_type": "stream",
     "text": [
      "The square has 4 sides\n",
      "The side lenght of square = 10\n",
      "The area of the square is = 100\n",
      "The perimeter of the square is = 40\n"
     ]
    }
   ],
   "source": [
    "# Object of type Square\n",
    "s = Square(10)\n",
    "\n",
    "# accessing the member attributes(data)\n",
    "print('The square has ' + str(s.num_sides) + ' sides')\n",
    "\n",
    "# accessing the side variable directly \n",
    "print('The side lenght of square = ' + str(s.side))\n",
    "\n",
    "# calling the member functions \n",
    "print('The area of the square is = ' + str(s.get_area()))\n",
    "print('The perimeter of the square is = ' + str(s.get_perimeter()))\n"
   ]
  },
  {
   "cell_type": "markdown",
   "metadata": {},
   "source": [
    "Now implementing getter and setter functions for a class object"
   ]
  },
  {
   "cell_type": "markdown",
   "metadata": {},
   "source": [
    "### 2 Class for Circle "
   ]
  },
  {
   "cell_type": "code",
   "execution_count": 39,
   "metadata": {},
   "outputs": [],
   "source": [
    "class Circle(object):\n",
    "    \n",
    "    # class attribute\n",
    "    PI = 3.14159582653\n",
    "    \n",
    "    # default constructor\n",
    "    def __init__(self, radius = 1):\n",
    "        self.radius = radius\n",
    "    \n",
    "    # member functions \n",
    "    def get_radius(self):\n",
    "        return self.radius\n",
    "    \n",
    "    def set_radius(self, new_radius):\n",
    "        self.radius = new_radius\n",
    "    \n",
    "    def get_area(self):\n",
    "        return self.PI * self.radius * self.radius \n",
    "        "
   ]
  },
  {
   "cell_type": "code",
   "execution_count": 46,
   "metadata": {},
   "outputs": [
    {
     "name": "stdout",
     "output_type": "stream",
     "text": [
      "THe radius of the circle = 10\n",
      "The area of the circle is = 314.15958265300003\n",
      "THe radius of the circle = 20\n",
      "The new area of the circle is = 1256.6383306120001\n"
     ]
    }
   ],
   "source": [
    "# Object of type Circle\n",
    "c = Circle(10)\n",
    "\n",
    "# Get the radius of the circle \n",
    "print(\"THe radius of the circle = \" + str(c.radius))\n",
    "\n",
    "# get the area of circle \n",
    "print(\"The area of the circle is = \" + str(c.get_area()))\n",
    "\n",
    "# setting a new value for the data member\n",
    "c.set_radius(20)\n",
    "print(\"THe radius of the circle = \" + str(c.radius))\n",
    "print(\"The new area of the circle is = \" + str(c.get_area()))\n"
   ]
  },
  {
   "cell_type": "markdown",
   "metadata": {},
   "source": [
    "### 3 Class for Cylinder - "
   ]
  },
  {
   "cell_type": "code",
   "execution_count": 41,
   "metadata": {},
   "outputs": [],
   "source": [
    "class Cylinder(object):\n",
    "    \n",
    "    # class attribute\n",
    "    PI = 3.14159582653\n",
    "    \n",
    "    # default constructor\n",
    "    def __init__(self, radius = 1, height = 1):\n",
    "        self.radius = radius\n",
    "        self.height = height\n",
    "    \n",
    "    # member functions     \n",
    "    def get_volume(self):\n",
    "        return self.PI * self.radius * self.radius * self.height "
   ]
  },
  {
   "cell_type": "code",
   "execution_count": 45,
   "metadata": {},
   "outputs": [
    {
     "name": "stdout",
     "output_type": "stream",
     "text": [
      "The area of the cylinder is = 6283.191653060001\n"
     ]
    }
   ],
   "source": [
    "# Object of type Cylinder \n",
    "\n",
    "cy = Cylinder(10, 20)\n",
    "print(\"The area of the cylinder is = \" + str(cy.get_volume()))"
   ]
  },
  {
   "cell_type": "markdown",
   "metadata": {},
   "source": [
    "### 4 Class for Triangle "
   ]
  },
  {
   "cell_type": "code",
   "execution_count": 54,
   "metadata": {},
   "outputs": [],
   "source": [
    "import math\n",
    "\n",
    "class Triangle(object):\n",
    "    \n",
    "    # default constructor \n",
    "    def __init__(self, a = 1, b = 1, c = 2):\n",
    "        self.a = a\n",
    "        self.b = b\n",
    "        self.c = c\n",
    "        \n",
    "    # member functions \n",
    "    def area(self):\n",
    "        # using Heron's formula - \n",
    "        p = (self.a + self.b + self.c) / 2\n",
    "        return math.sqrt(p * (p - self.a) * (p - self.b) * (p - self.c))\n",
    "\n",
    "    def perimeter(self):\n",
    "        return self.a + self.b + self.c\n",
    "        "
   ]
  },
  {
   "cell_type": "code",
   "execution_count": 55,
   "metadata": {},
   "outputs": [
    {
     "name": "stdout",
     "output_type": "stream",
     "text": [
      "The perimeter of the triangle = 72\n",
      "The area of the triangle is = 216.0\n"
     ]
    }
   ],
   "source": [
    "# Object of type Triangle \n",
    "t = Triangle(24, 30, 18)\n",
    "print(\"The perimeter of the triangle = \" + str(t.perimeter()))\n",
    "print(\"The area of the triangle is = \" + str(t.area()))\n"
   ]
  },
  {
   "cell_type": "markdown",
   "metadata": {},
   "source": [
    "### 5 Class for Rectangle Geometry - "
   ]
  },
  {
   "cell_type": "code",
   "execution_count": 15,
   "metadata": {},
   "outputs": [],
   "source": [
    "class Rectangle(object):\n",
    "    \n",
    "    #default construtor \n",
    "    def __init__(self, l = 1, b = 1):\n",
    "        # creating private vairables\n",
    "        self.__l = l\n",
    "        self.__b = b\n",
    "        \n",
    "    # member functions \n",
    "    def area(self):\n",
    "        return self.__l * self.__b\n",
    "    \n",
    "    def perimeter(self):\n",
    "        return (self.__l + self.__b)*2"
   ]
  },
  {
   "cell_type": "markdown",
   "metadata": {},
   "source": [
    "In the above example we cannot access the lenght and breadth data directly we need to call a member function to manipulate the data."
   ]
  },
  {
   "cell_type": "code",
   "execution_count": 30,
   "metadata": {},
   "outputs": [
    {
     "name": "stdout",
     "output_type": "stream",
     "text": [
      "The perimeter of the rectangle is  = 60\n",
      "The area of the rectangle is  = <bound method Rectangle.area of <__main__.Rectangle object at 0x7f37e81b1da0>>\n"
     ]
    }
   ],
   "source": [
    "r = Rectangle(10, 20)\n",
    "\n",
    "print(\"The perimeter of the rectangle is  = \" + str(r.perimeter()))\n",
    "print(\"The area of the rectangle is  = \" + str(r.area))\n",
    "\n",
    "# We cannot access the private data members of the class like this -\n",
    "# print('The lenght of rectange = ' + str(r.__l))\n",
    "# print('The breadth of rectange = ' + str(r.__b))\n"
   ]
  },
  {
   "cell_type": "markdown",
   "metadata": {},
   "source": [
    "### 6 Class for Cubiod "
   ]
  },
  {
   "cell_type": "code",
   "execution_count": 70,
   "metadata": {},
   "outputs": [],
   "source": [
    "class Cubiod(object):\n",
    "    \n",
    "    # Class attribute \n",
    "    num_edges = 12\n",
    "    num_faces = 6\n",
    "    num_vertex = 8\n",
    "    \n",
    "    # default constructor \n",
    "    def __init__(self, side = 1):\n",
    "        self.__side = side\n",
    "\n",
    "    # member functions\n",
    "    def get_side(self):\n",
    "        return self.__side;\n",
    "    \n",
    "    def get_volume(self):\n",
    "        return self.__side ** 3\n",
    "    \n",
    "    def set_side(self, new_side):\n",
    "        self.__side = new_side\n",
    "        print('New side has been created')\n",
    "    "
   ]
  },
  {
   "cell_type": "code",
   "execution_count": 72,
   "metadata": {},
   "outputs": [
    {
     "name": "stdout",
     "output_type": "stream",
     "text": [
      "The volume of the cube = 1000\n",
      "New side has been created\n",
      "The new volume of the cube = 8000\n"
     ]
    }
   ],
   "source": [
    "cu = Cubiod(10)\n",
    "print(\"The volume of the cube = \" + str(cu.get_volume()))\n",
    "cu.set_side(20)\n",
    "print(\"The new volume of the cube = \" + str(cu.get_volume()))"
   ]
  },
  {
   "cell_type": "markdown",
   "metadata": {},
   "source": [
    "However one cannot access the private member of the class named side"
   ]
  },
  {
   "cell_type": "code",
   "execution_count": 73,
   "metadata": {},
   "outputs": [
    {
     "ename": "AttributeError",
     "evalue": "'Cubiod' object has no attribute '__side'",
     "output_type": "error",
     "traceback": [
      "\u001b[0;31m---------------------------------------------------------------------------\u001b[0m",
      "\u001b[0;31mAttributeError\u001b[0m                            Traceback (most recent call last)",
      "\u001b[0;32m<ipython-input-73-614242ca2777>\u001b[0m in \u001b[0;36m<module>\u001b[0;34m\u001b[0m\n\u001b[0;32m----> 1\u001b[0;31m \u001b[0mprint\u001b[0m\u001b[0;34m(\u001b[0m\u001b[0mcu\u001b[0m\u001b[0;34m.\u001b[0m\u001b[0m__side\u001b[0m\u001b[0;34m)\u001b[0m\u001b[0;34m\u001b[0m\u001b[0;34m\u001b[0m\u001b[0m\n\u001b[0m",
      "\u001b[0;31mAttributeError\u001b[0m: 'Cubiod' object has no attribute '__side'"
     ]
    }
   ],
   "source": [
    "print(cu.__side)"
   ]
  },
  {
   "cell_type": "markdown",
   "metadata": {},
   "source": [
    "### 7 Class for Elipse "
   ]
  },
  {
   "cell_type": "code",
   "execution_count": 83,
   "metadata": {},
   "outputs": [],
   "source": [
    "class Elipse(object):\n",
    "        \n",
    "    # public member attribute of the class\n",
    "    PI = 3.14159582653\n",
    "    \n",
    "    # default constructor \n",
    "    def __init__(self, a = 1, b = 2):\n",
    "        # private member of the class\n",
    "        self.__a = a\n",
    "        # protected member of the class\n",
    "        self._b = b\n",
    "\n",
    "    def area(self):\n",
    "        return self.__a * self._b * self.PI\n",
    "    \n",
    "    "
   ]
  },
  {
   "cell_type": "markdown",
   "metadata": {},
   "source": [
    "One can access the public and protected members of the class as shown below, but not the private members"
   ]
  },
  {
   "cell_type": "code",
   "execution_count": 84,
   "metadata": {},
   "outputs": [
    {
     "name": "stdout",
     "output_type": "stream",
     "text": [
      "The area of the elipse = 9.42478747959\n",
      "The value of PI = 3.14159582653\n",
      "The value of b = 3\n"
     ]
    },
    {
     "ename": "AttributeError",
     "evalue": "'Elipse' object has no attribute '__a'",
     "output_type": "error",
     "traceback": [
      "\u001b[0;31m---------------------------------------------------------------------------\u001b[0m",
      "\u001b[0;31mAttributeError\u001b[0m                            Traceback (most recent call last)",
      "\u001b[0;32m<ipython-input-84-f45dfaa5ac9b>\u001b[0m in \u001b[0;36m<module>\u001b[0;34m\u001b[0m\n\u001b[1;32m      9\u001b[0m \u001b[0;34m\u001b[0m\u001b[0m\n\u001b[1;32m     10\u001b[0m \u001b[0;31m# accessing the private member\u001b[0m\u001b[0;34m\u001b[0m\u001b[0;34m\u001b[0m\u001b[0;34m\u001b[0m\u001b[0m\n\u001b[0;32m---> 11\u001b[0;31m \u001b[0mprint\u001b[0m\u001b[0;34m(\u001b[0m\u001b[0;34m\"The value of a = \"\u001b[0m \u001b[0;34m+\u001b[0m \u001b[0mstr\u001b[0m\u001b[0;34m(\u001b[0m\u001b[0me\u001b[0m\u001b[0;34m.\u001b[0m\u001b[0m__a\u001b[0m\u001b[0;34m)\u001b[0m\u001b[0;34m)\u001b[0m\u001b[0;34m\u001b[0m\u001b[0;34m\u001b[0m\u001b[0m\n\u001b[0m",
      "\u001b[0;31mAttributeError\u001b[0m: 'Elipse' object has no attribute '__a'"
     ]
    }
   ],
   "source": [
    "e = Elipse(1, 3)\n",
    "print(\"The area of the elipse = \" + str(e.area()))\n",
    "\n",
    "# accessing the public member \n",
    "print(\"The value of PI = \" + str(e.PI))\n",
    "\n",
    "# accessing the protected member\n",
    "print(\"The value of b = \" + str(e._b))\n",
    "\n",
    "# accessing the private member\n",
    "print(\"The value of a = \" + str(e.__a))\n"
   ]
  },
  {
   "cell_type": "markdown",
   "metadata": {},
   "source": [
    "### 8 Class for Trapezium "
   ]
  },
  {
   "cell_type": "code",
   "execution_count": 98,
   "metadata": {},
   "outputs": [],
   "source": [
    "class Trapezium(object):\n",
    "    \n",
    "    # default constructor  \n",
    "    def __init__(self,p1 = 1,p2 = 1,h = 1):\n",
    "        # protected data memebers \n",
    "        \n",
    "        # parallel sides\n",
    "        self._p1 = p1\n",
    "        self._p2 = p2\n",
    "        \n",
    "        # height\n",
    "        self._h = h\n",
    "        \n",
    "        print('Trapezium created')\n",
    "    \n",
    "    # member functions \n",
    "    \n",
    "    # stringify the information realted to the trapezium class \n",
    "    def __str__(self):\n",
    "        return \"It has height = {}, and sum of parallel sides = {}\".format(self._h,self._p1 + self._p2)\n",
    "    \n",
    "    def area(self):\n",
    "        return (self._p1+self._p2)*self._h/2\n"
   ]
  },
  {
   "cell_type": "code",
   "execution_count": 99,
   "metadata": {},
   "outputs": [
    {
     "name": "stdout",
     "output_type": "stream",
     "text": [
      "Trapezium created\n",
      "It has height = 3, and sum of parallel sides = 30\n",
      "The area of the trapezium = 45.0\n"
     ]
    }
   ],
   "source": [
    "t = Trapezium(10, 20, 3)\n",
    "print(str(t))\n",
    "print(\"The area of the trapezium = \" + str(t.area()))"
   ]
  },
  {
   "cell_type": "markdown",
   "metadata": {},
   "source": [
    "### 9 Class for Rhombus"
   ]
  },
  {
   "cell_type": "code",
   "execution_count": 107,
   "metadata": {},
   "outputs": [],
   "source": [
    "class Quadrilaterals(object):\n",
    "    def __init__(self, A = 1, B = 1, C = 1, D = 1):\n",
    "        self._A = A\n",
    "        self._B = B\n",
    "        self._C = C\n",
    "        self._D = D\n",
    "        print(\"The quadrilateral is created!\")\n",
    "\n",
    "class Rhombus(Quadrilaterals):\n",
    "    def __init__(self,side = 1,angle = 60):\n",
    "        # private memebers\n",
    "        self._side = side\n",
    "        self._angle = angle\n",
    "        Quadrilaterals.__init__(self, side, side, side, side)\n",
    "        print(\"Rhombus is created!\")\n",
    "    \n",
    "    def get_side(self):\n",
    "        return self.side\n",
    "    \n",
    "    def set_side(self,side):\n",
    "        self.side = side\n"
   ]
  },
  {
   "cell_type": "markdown",
   "metadata": {},
   "source": [
    "A derived class instance also access the protected members of the base class"
   ]
  },
  {
   "cell_type": "code",
   "execution_count": 109,
   "metadata": {},
   "outputs": [
    {
     "name": "stdout",
     "output_type": "stream",
     "text": [
      "The quadrilateral is created!\n",
      "Rhombus is created!\n",
      "1\n"
     ]
    }
   ],
   "source": [
    "r = Rhombus(1, 60)\n",
    "\n",
    "# accessing a base class protected variable \n",
    "print(r._A)"
   ]
  },
  {
   "cell_type": "markdown",
   "metadata": {},
   "source": [
    "### 10 Class for Cirlce for drawing Geometries using turtle"
   ]
  },
  {
   "cell_type": "code",
   "execution_count": 119,
   "metadata": {},
   "outputs": [],
   "source": [
    "import turtle\n",
    "class Circle(object):\n",
    "    \n",
    "    def __init__(self,radius=1):\n",
    "        self.radius = radius\n",
    "    \n",
    "    def perimeter(self):\n",
    "        return 3.14*2*self.radius\n",
    "    \n",
    "    def draw(self):\n",
    "        turtle.circle(self.radius)"
   ]
  },
  {
   "cell_type": "code",
   "execution_count": 120,
   "metadata": {},
   "outputs": [],
   "source": [
    "c = Circle(20)"
   ]
  },
  {
   "cell_type": "code",
   "execution_count": 121,
   "metadata": {},
   "outputs": [
    {
     "name": "stdout",
     "output_type": "stream",
     "text": [
      "125.60000000000001\n"
     ]
    }
   ],
   "source": [
    "print(c.perimeter())"
   ]
  },
  {
   "cell_type": "code",
   "execution_count": null,
   "metadata": {},
   "outputs": [],
   "source": [
    "c.draw()"
   ]
  }
 ],
 "metadata": {
  "kernelspec": {
   "display_name": "Python 3",
   "language": "python",
   "name": "python3"
  },
  "language_info": {
   "codemirror_mode": {
    "name": "ipython",
    "version": 3
   },
   "file_extension": ".py",
   "mimetype": "text/x-python",
   "name": "python",
   "nbconvert_exporter": "python",
   "pygments_lexer": "ipython3",
   "version": "3.6.9"
  }
 },
 "nbformat": 4,
 "nbformat_minor": 4
}
